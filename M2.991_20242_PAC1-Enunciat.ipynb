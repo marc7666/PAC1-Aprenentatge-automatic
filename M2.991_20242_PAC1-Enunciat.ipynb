{
 "cells": [
  {
   "cell_type": "markdown",
   "metadata": {
    "id": "Kkjzq5PUPAD9"
   },
   "source": [
    "<div style=\"width: 100%; clear: both;\">\n",
    "\n",
    "<div style=\"float: left; width: 50%;\">\n",
    "\n",
    "<img src=\"http://www.uoc.edu/portal/_resources/common/imatges/marca_UOC/UOC_Masterbrand.jpg\" align=\"left\">\n",
    "\n",
    "</div>\n",
    "\n",
    "<div style=\"float: right; width: 50%;\">\n",
    "\n",
    "<p style=\"margin: 0; padding-top: 22px; text-align:right;\">M2.991 · Aprenentatge automàtic · PAC1</p>\n",
    "\n",
    "<p style=\"margin: 0; text-align:right;\">2024-2 · Màster universitari en Ciència de dades (Data science)</p>\n",
    "\n",
    "<p style=\"margin: 0; text-align:right; padding-button: 100px;\">Estudis d'Informàtica, Multimèdia i Telecomunicació</p>\n",
    "\n",
    "</div>\n",
    "\n",
    "</div>\n",
    "\n",
    "<div style=\"width:100%;\">&nbsp;</div>"
   ]
  },
  {
   "cell_type": "markdown",
   "metadata": {
    "id": "w3k6VSA7PAEA"
   },
   "source": [
    "**PAC 1: Preparació de dades**\n",
    "\n",
    "L'objectiu principal d'aquesta primera PAC és que us familiaritzeu amb l'entorn de treball que utilitzareu a la resta de pràctiques de l'assignatura. Aquest entorn estarà format per un conjunt de dependències als mòduls de Python necessaris per poder executar de forma correcta el codi que resol la vostra PAC. Aquestes dependències les gestionarem gràcies a l'ajuda d'Anaconda, que, entre altres coses, ens proveeix d'un gestor d'entorns virtuals per a Python.\n",
    "\n",
    "Una altra de les eines fonamentals del que serà el vostre nou entorn de treball serà Jupyter, que us permetrà treballar amb Notebooks (fitxers \\*.ipynb), com el present enunciat, i on podreu executar el vostre codi cel·la a cel·la, mostrant els resultats intermedis que necessiteu per comprendre correctament què esteu fent en cada moment.\n",
    "\n",
    "En aquesta primera PAC, un altre dels aspectes imprescindibles que cobrirem, tal com avança el seu títol, és el de la preparació de les dades. En aquesta PAC aprendrem a carregar diferents conjunts de dades o _datasets_, els combinarem i ens ajudarem d'eines de visualització per comprendre millor com es distribueix la dada, amb l'objectiu d'entendre com podem treure'n profit. A més, ens habituarem a treballar amb conjunts d'entrenament i test per confirmar si les conclusions que traiem sobre una part de les mostres es poden generalitzar i extrapolar a la resta.\n",
    "\n",
    "En resum, en aquesta pràctica veurem com aplicar diferents tècniques per a la càrrega i preparació de dades seguint els passos llistats a continuació:\n",
    "1. Càrrega i combinació dels diferents conjunts de dades (2 punts)<br>\n",
    "   1.1. Real Estate Valuation<br>\n",
    "   1.2. Taiwan Points of Interest (OpenStreetMap Export)<br>\n",
    "2. Anàlisi de les dades (2.5 punts)<br>\n",
    "   2.1. Anàlisi estadístic bàsic<br>\n",
    "   2.2. Anàlisi exploratori de les dades<br>\n",
    "3. Preprocessat de les dades (1 punt)<br>\n",
    "4. Reducció de la dimensionalitat (2 punts)<br>\n",
    "5. Conjunts desbalancejats de dades (1.5 punts)<br>\n",
    "6. Cerca i combinació de nous conjunts de dades (1 punt)<br>\n",
    "\n",
    "**Important:** cada un dels exercicis pot suposar diversos minuts d'execució, per la qual cosa l'entrega s'ha de fer en format notebook i en format html, on es vegi el codi, els resultats i comentaris de cada exercici. Es pot exportar el notebook a html des del menú File $\\to$ Download as $\\to$ HTML.\n",
    "\n",
    "**Important:** existeix un tipus de cel·la especial per albergar text. Aquest tipus de cel·la us serà molt útil per respondre a les diferents preguntes teòriques plantejades al llarg de cada PAC. Per canviar el tipus de cel·la a aquest tipus, trieu al menú: Cell $\\to$ Cell Type $\\to$ Markdown.\n",
    "\n",
    "**Important:** la solució plantejada no ha d'utilitzar mètodes, funcions o paràmetres declarats \"deprecated\" en futures versions.\n",
    "\n",
    "**Important:** és convenient que utilitzeu una llavor amb un valor fix (en aquest Notebook se us proposa la variable _seed_ inicialitzada a 100) en tots aquells mètodes o funcions que continguin alguna component aleatòria per assegurar-vos que obtindreu sempre el mateix resultat a les diferents execucions del vostre codi.\n",
    "\n",
    "**Important:** no oblideu posar el vostre nom i cognoms a la següent cel·la."
   ]
  },
  {
   "cell_type": "markdown",
   "metadata": {
    "id": "uuHiW6iWPAEB"
   },
   "source": [
    "<div class=\"alert alert-block alert-info\">\n",
    "<strong>Nom i cognoms: Marc Cervera Rosell</strong>\n",
    "</div>"
   ]
  },
  {
   "cell_type": "markdown",
   "metadata": {
    "id": "Zv8CPaJ8PAEC"
   },
   "source": []
  },
  {
   "cell_type": "markdown",
   "metadata": {
    "id": "FrgodeyGPAEC"
   },
   "source": [
    "Per a la realització de la pràctica necessitarem instal·lar i importar els següents mòduls:"
   ]
  },
  {
   "cell_type": "code",
   "execution_count": 1,
   "metadata": {
    "id": "rAGXNrruPAED",
    "outputId": "f51d386e-0260-4464-92f5-7e9977ef3a1b"
   },
   "outputs": [
    {
     "name": "stdout",
     "output_type": "stream",
     "text": [
      "Collecting smogn==0.1.2\n",
      "  Downloading smogn-0.1.2-py3-none-any.whl.metadata (4.5 kB)\n",
      "Requirement already satisfied: numpy in c:\\users\\mcr99\\anaconda3\\envs\\environment_uoc20242pec1\\lib\\site-packages (from smogn==0.1.2) (2.2.3)\n",
      "Requirement already satisfied: pandas in c:\\users\\mcr99\\anaconda3\\envs\\environment_uoc20242pec1\\lib\\site-packages (from smogn==0.1.2) (2.2.3)\n",
      "Collecting tqdm (from smogn==0.1.2)\n",
      "  Downloading tqdm-4.67.1-py3-none-any.whl.metadata (57 kB)\n",
      "Requirement already satisfied: python-dateutil>=2.8.2 in c:\\users\\mcr99\\anaconda3\\envs\\environment_uoc20242pec1\\lib\\site-packages (from pandas->smogn==0.1.2) (2.9.0.post0)\n",
      "Requirement already satisfied: pytz>=2020.1 in c:\\users\\mcr99\\anaconda3\\envs\\environment_uoc20242pec1\\lib\\site-packages (from pandas->smogn==0.1.2) (2024.1)\n",
      "Requirement already satisfied: tzdata>=2022.7 in c:\\users\\mcr99\\anaconda3\\envs\\environment_uoc20242pec1\\lib\\site-packages (from pandas->smogn==0.1.2) (2023.3)\n",
      "Requirement already satisfied: colorama in c:\\users\\mcr99\\anaconda3\\envs\\environment_uoc20242pec1\\lib\\site-packages (from tqdm->smogn==0.1.2) (0.4.6)\n",
      "Requirement already satisfied: six>=1.5 in c:\\users\\mcr99\\anaconda3\\envs\\environment_uoc20242pec1\\lib\\site-packages (from python-dateutil>=2.8.2->pandas->smogn==0.1.2) (1.16.0)\n",
      "Downloading smogn-0.1.2-py3-none-any.whl (30 kB)\n",
      "Downloading tqdm-4.67.1-py3-none-any.whl (78 kB)\n",
      "Installing collected packages: tqdm, smogn\n",
      "Successfully installed smogn-0.1.2 tqdm-4.67.1\n"
     ]
    }
   ],
   "source": [
    "!pip install smogn==0.1.2"
   ]
  },
  {
   "cell_type": "code",
   "execution_count": 2,
   "metadata": {
    "id": "U296kJQ-PAEE"
   },
   "outputs": [],
   "source": [
    "import numpy as np\n",
    "import pandas as pd\n",
    "import geopandas as gpd\n",
    "\n",
    "from sklearn import preprocessing\n",
    "from sklearn.manifold import TSNE\n",
    "from sklearn.decomposition import PCA\n",
    "from sklearn.model_selection import train_test_split\n",
    "from sklearn.neighbors import BallTree\n",
    "import smogn\n",
    "\n",
    "import matplotlib\n",
    "import matplotlib.pyplot as plt\n",
    "import seaborn as sns\n",
    "\n",
    "pd.set_option('display.max_columns', None)\n",
    "seed = 100\n",
    "\n",
    "%matplotlib inline"
   ]
  },
  {
   "cell_type": "markdown",
   "metadata": {
    "id": "IWMRQDr2PAEE"
   },
   "source": [
    "# 1. Càrrega i combinació dels diferents conjunts de dades (2 punts)\n",
    "\n",
    "En aquesta PAC treballarem amb un conjunt de dades en què cada mostra representarà la venda d'un immoble de la ciutat de Nova Taipei (Taiwan). Aquest conjunt de dades conté una sèrie de columnes que ens donaran informació de la transacció i d'algunes característiques de l'habitatge. No obstant això, volem enriquir aquest conjunt de dades afegint-li un nou atribut descriptiu i això ho farem utilitzant un segon _dataset_, en què cada mostra serà un punt d'interès de Taiwan, per calcular quants llocs d'interès hi ha propers a cada propietat.\n",
    "\n",
    "Comencem amb la càrrega de dades:\n",
    "\n",
    "## 1.1. Real Estate Valuation\n",
    "\n",
    "El primer conjunt de dades, que a més és el principal, es diu _Real Estate Valuation_ i és un dels _datasets_ disponibles dins del [Repositori d'Aprenentatge Automàtic de la Universitat de Califòrnia a Irvine](https://archive.ics.uci.edu/).\n",
    "\n",
    "A l'enllaç <https://archive.ics.uci.edu/dataset/477/real+estate+valuation+data+set> teniu disponible tant l'esmentat _dataset_ _Real Estate Valuation_ com tota la informació rellevant per comprendre millor amb quin tipus de dada treballarem. Tal com s'ha avançat, les mostres d'aquest conjunt de dades estan relacionades amb vendes d'immobles a la ciutat de Nova Taipei (Taiwan).\n",
    "\n",
    "En primer lloc, haureu de carregar al Notebook el conjunt de dades amb què treballarem durant la resta de la PAC. Per a això podeu descarregar-lo manualment de l'enllaç referit prèviament, encara que us aconsellem que instal·leu i utilitzeu el mòdul _ucimlrepo_ tal com s'explica a la mateixa pàgina del _dataset_.\n",
    "\n",
    "**Nota:** juntament amb l'enunciat de la PAC hem adjuntat el fitxer *real+estate+valuation+data+set.zip* que podeu utilitzar en el cas que la pàgina citada prèviament no respongui."
   ]
  },
  {
   "cell_type": "markdown",
   "metadata": {
    "id": "rRqrmSNjPAEF"
   },
   "source": [
    "<div style=\"background-color: #EDF7FF; border-color: #7C9DBF; border-left: 5px solid #7C9DBF; padding: 0.5em;\">\n",
    "<strong>Exercici:</strong> carrega el conjunt de dades \"Real Estate Valuation\" i mostra:\n",
    "\n",
    "<ul>\n",
    "  <li>El nombre i nom dels atributs descriptius (variables que podrien ser usades per predir la variable objectiu \"y\").</li>\n",
    "  <li>El nombre de files (mostres) del conjunt de dades.</li>\n",
    "  <li>Verifiqueu si hi ha o no \"missing values\" i en quines columnes.</li>\n",
    "</ul>\n",
    "\n",
    "Suggeriment: si uses ucimlrepo, explora els atributs _metadata_ i _variables_ de l'objecte obtingut.\n",
    "    \n",
    "Suggeriment: separa el conjunt de dades original en les variables \"X\" (atributs descriptius) i \"y\" (variable objectiu), encara que potser us pot ser d'utilitat en algun punt tenir-los també en un únic DataFrame combinats.\n",
    "</div>"
   ]
  },
  {
   "cell_type": "code",
   "execution_count": 3,
   "metadata": {
    "id": "6uXuSCSHPAEF"
   },
   "outputs": [],
   "source": [
    "from ucimlrepo import fetch_ucirepo\n",
    "real_estate_valuation_dataset = fetch_ucirepo(name='Real Estate Valuation') # Cèrrega del dataset"
   ]
  },
  {
   "cell_type": "code",
   "execution_count": 4,
   "metadata": {},
   "outputs": [
    {
     "name": "stdout",
     "output_type": "stream",
     "text": [
      "{\n",
      "    \"uci_id\": 477,\n",
      "    \"name\": \"Real Estate Valuation\",\n",
      "    \"repository_url\": \"https://archive.ics.uci.edu/dataset/477/real+estate+valuation+data+set\",\n",
      "    \"data_url\": \"https://archive.ics.uci.edu/static/public/477/data.csv\",\n",
      "    \"abstract\": \"The real estate valuation is a regression problem. The market historical data set of real estate valuation are collected from Sindian Dist., New Taipei City, Taiwan. \",\n",
      "    \"area\": \"Business\",\n",
      "    \"tasks\": [\n",
      "        \"Regression\"\n",
      "    ],\n",
      "    \"characteristics\": [\n",
      "        \"Multivariate\"\n",
      "    ],\n",
      "    \"num_instances\": 414,\n",
      "    \"num_features\": 6,\n",
      "    \"feature_types\": [\n",
      "        \"Integer\",\n",
      "        \"Real\"\n",
      "    ],\n",
      "    \"demographics\": [],\n",
      "    \"target_col\": [\n",
      "        \"Y house price of unit area\"\n",
      "    ],\n",
      "    \"index_col\": [\n",
      "        \"No\"\n",
      "    ],\n",
      "    \"has_missing_values\": \"no\",\n",
      "    \"missing_values_symbol\": null,\n",
      "    \"year_of_dataset_creation\": 2018,\n",
      "    \"last_updated\": \"Mon Feb 26 2024\",\n",
      "    \"dataset_doi\": \"10.24432/C5J30W\",\n",
      "    \"creators\": [\n",
      "        \"I-Cheng Yeh\"\n",
      "    ],\n",
      "    \"intro_paper\": {\n",
      "        \"ID\": 373,\n",
      "        \"type\": \"NATIVE\",\n",
      "        \"title\": \"Building real estate valuation models with comparative approach through case-based reasoning\",\n",
      "        \"authors\": \"I. Yeh, Tzu-Kuang Hsu\",\n",
      "        \"venue\": \"Applied Soft Computing\",\n",
      "        \"year\": 2018,\n",
      "        \"journal\": null,\n",
      "        \"DOI\": null,\n",
      "        \"URL\": \"https://dl.acm.org/doi/abs/10.1016/j.asoc.2018.01.029\",\n",
      "        \"sha\": null,\n",
      "        \"corpus\": null,\n",
      "        \"arxiv\": null,\n",
      "        \"mag\": null,\n",
      "        \"acl\": null,\n",
      "        \"pmid\": null,\n",
      "        \"pmcid\": null\n",
      "    },\n",
      "    \"additional_info\": {\n",
      "        \"summary\": \"The market historical data set of real estate valuation are collected from Sindian Dist., New Taipei City, Taiwan. The \\u00e2\\u20ac\\u0153real estate valuation\\u00e2\\u20ac\\u009d is a regression problem. The data set was randomly split into the training data set (2/3 samples) and the testing data set (1/3 samples).\",\n",
      "        \"purpose\": null,\n",
      "        \"funded_by\": null,\n",
      "        \"instances_represent\": null,\n",
      "        \"recommended_data_splits\": null,\n",
      "        \"sensitive_data\": null,\n",
      "        \"preprocessing_description\": null,\n",
      "        \"variable_info\": \"The inputs are as follows\\r\\nX1=the transaction date (for example, 2013.250=2013 March, 2013.500=2013 June, etc.)\\r\\nX2=the house age (unit: year)\\r\\nX3=the distance to the nearest MRT station (unit: meter)\\r\\nX4=the number of convenience stores in the living circle on foot (integer)\\r\\nX5=the geographic coordinate, latitude. (unit: degree)\\r\\nX6=the geographic coordinate, longitude. (unit: degree)\\r\\n\\r\\nThe output is as follow\\r\\nY= house price of unit area (10000 New Taiwan Dollar/Ping, where Ping is a local unit, 1 Ping = 3.3 meter squared)\\r\\n\",\n",
      "        \"citation\": null\n",
      "    }\n",
      "}\n"
     ]
    }
   ],
   "source": [
    "import json # Per visualitzar de manera senzilla el json de les metadades\n",
    "print(json.dumps(real_estate_valuation_dataset.metadata, indent=4)) # Mostrar atribut metadata"
   ]
  },
  {
   "cell_type": "code",
   "execution_count": 5,
   "metadata": {},
   "outputs": [
    {
     "name": "stdout",
     "output_type": "stream",
     "text": [
      "                                     name     role        type demographic  \\\n",
      "0                                      No       ID     Integer        None   \n",
      "1                     X1 transaction date  Feature  Continuous        None   \n",
      "2                            X2 house age  Feature  Continuous        None   \n",
      "3  X3 distance to the nearest MRT station  Feature  Continuous        None   \n",
      "4         X4 number of convenience stores  Feature     Integer        None   \n",
      "5                             X5 latitude  Feature  Continuous        None   \n",
      "6                            X6 longitude  Feature  Continuous        None   \n",
      "7              Y house price of unit area   Target  Continuous        None   \n",
      "\n",
      "                                         description  \\\n",
      "0                                               None   \n",
      "1  for example, 2013.250=2013 March, 2013.500=201...   \n",
      "2                                               None   \n",
      "3                                               None   \n",
      "4  number of convenience stores in the living cir...   \n",
      "5                    geographic coordinate, latitude   \n",
      "6                   geographic coordinate, longitude   \n",
      "7  10000 New Taiwan Dollar/Ping, where Ping is a ...   \n",
      "\n",
      "                          units missing_values  \n",
      "0                          None             no  \n",
      "1                          None             no  \n",
      "2                          year             no  \n",
      "3                         meter             no  \n",
      "4                       integer             no  \n",
      "5                        degree             no  \n",
      "6                        degree             no  \n",
      "7  10000 New Taiwan Dollar/Ping             no  \n"
     ]
    }
   ],
   "source": [
    "print(real_estate_valuation_dataset.variables) # Mostrar atribut variables"
   ]
  },
  {
   "cell_type": "code",
   "execution_count": 6,
   "metadata": {},
   "outputs": [
    {
     "name": "stdout",
     "output_type": "stream",
     "text": [
      "----- Atributs descriptius:-----\n",
      "      X1 transaction date  X2 house age  \\\n",
      "0               2012.917          32.0   \n",
      "1               2012.917          19.5   \n",
      "2               2013.583          13.3   \n",
      "3               2013.500          13.3   \n",
      "4               2012.833           5.0   \n",
      "..                   ...           ...   \n",
      "409             2013.000          13.7   \n",
      "410             2012.667           5.6   \n",
      "411             2013.250          18.8   \n",
      "412             2013.000           8.1   \n",
      "413             2013.500           6.5   \n",
      "\n",
      "     X3 distance to the nearest MRT station  X4 number of convenience stores  \\\n",
      "0                                  84.87882                               10   \n",
      "1                                 306.59470                                9   \n",
      "2                                 561.98450                                5   \n",
      "3                                 561.98450                                5   \n",
      "4                                 390.56840                                5   \n",
      "..                                      ...                              ...   \n",
      "409                              4082.01500                                0   \n",
      "410                                90.45606                                9   \n",
      "411                               390.96960                                7   \n",
      "412                               104.81010                                5   \n",
      "413                                90.45606                                9   \n",
      "\n",
      "     X5 latitude  X6 longitude  \n",
      "0       24.98298     121.54024  \n",
      "1       24.98034     121.53951  \n",
      "2       24.98746     121.54391  \n",
      "3       24.98746     121.54391  \n",
      "4       24.97937     121.54245  \n",
      "..           ...           ...  \n",
      "409     24.94155     121.50381  \n",
      "410     24.97433     121.54310  \n",
      "411     24.97923     121.53986  \n",
      "412     24.96674     121.54067  \n",
      "413     24.97433     121.54310  \n",
      "\n",
      "[414 rows x 6 columns] \n",
      "\n",
      "-----Atributs objectiu:-----\n",
      "      Y house price of unit area\n",
      "0                          37.9\n",
      "1                          42.2\n",
      "2                          47.3\n",
      "3                          54.8\n",
      "4                          43.1\n",
      "..                          ...\n",
      "409                        15.4\n",
      "410                        50.0\n",
      "411                        40.6\n",
      "412                        52.5\n",
      "413                        63.9\n",
      "\n",
      "[414 rows x 1 columns]\n"
     ]
    }
   ],
   "source": [
    "descriptive_attributes = real_estate_valuation_dataset.data.features # Atributs descriptius\n",
    "target_attributes = real_estate_valuation_dataset.data.targets # Atributs objectiu\n",
    "print(\"----- Atributs descriptius:-----\\n\", descriptive_attributes, \"\\n\")\n",
    "print(\"-----Atributs objectiu:-----\\n\", target_attributes)"
   ]
  },
  {
   "cell_type": "code",
   "execution_count": 7,
   "metadata": {},
   "outputs": [
    {
     "name": "stdout",
     "output_type": "stream",
     "text": [
      "Atributs descriptius:\n",
      " ['X1 transaction date', 'X2 house age', 'X3 distance to the nearest MRT station', 'X4 number of convenience stores', 'X5 latitude', 'X6 longitude']\n",
      "Nombre d'atributs descriptius:  6\n"
     ]
    }
   ],
   "source": [
    "number_descriptives = descriptive_attributes.columns\n",
    "print(\"Atributs descriptius:\\n\", list(number_descriptives)) # Mostra dels noms dels atributs descriptius\n",
    "print(\"Nombre d'atributs descriptius: \", len(number_descriptives)) # Mostra del nombre d'atributs descriptius"
   ]
  },
  {
   "cell_type": "code",
   "execution_count": 8,
   "metadata": {},
   "outputs": [
    {
     "name": "stdout",
     "output_type": "stream",
     "text": [
      "Nombre de files del dataset:  3312\n"
     ]
    }
   ],
   "source": [
    "real_estate_valuation_as_pandas = real_estate_valuation_dataset.data.original # Transformació del dataset complet a pandas\n",
    "print(\"Nombre de files del dataset: \", real_estate_valuation_as_pandas.size)"
   ]
  },
  {
   "cell_type": "code",
   "execution_count": 9,
   "metadata": {},
   "outputs": [
    {
     "data": {
      "text/plain": [
       "No                                        False\n",
       "X1 transaction date                       False\n",
       "X2 house age                              False\n",
       "X3 distance to the nearest MRT station    False\n",
       "X4 number of convenience stores           False\n",
       "X5 latitude                               False\n",
       "X6 longitude                              False\n",
       "Y house price of unit area                False\n",
       "dtype: bool"
      ]
     },
     "execution_count": 9,
     "metadata": {},
     "output_type": "execute_result"
    }
   ],
   "source": [
    "real_estate_valuation_as_pandas.isna().any()"
   ]
  },
  {
   "cell_type": "markdown",
   "metadata": {
    "id": "Anp-nAJ2PAEF"
   },
   "source": [
    "<div style=\"background-color: #EDF7FF; border-color: #7C9DBF; border-left: 5px solid #7C9DBF; padding: 0.5em;\">\n",
    "<strong>Pregunta:</strong> el conjunt de dades proposat és un problema d'aprenentatge automàtic supervisat o no?, en cas que ho sigui, de quin tipus d'aprenentatge supervisat estaríem parlant?\n",
    "</div>"
   ]
  },
  {
   "cell_type": "markdown",
   "metadata": {},
   "source": [
    "El conjunt de dades plantejat es correspon a un problema d'aprenentatge supervisat ja que es disposa d'una classe/etiqueta i s'utilitzen les variables descriptives per predir la variable objectiu. Concretament, es tracta d'un problema de regressió atès que la variable objetciu és un enter."
   ]
  },
  {
   "cell_type": "markdown",
   "metadata": {},
   "source": [
    "**Recursos externs consultats:**\n",
    "\n",
    "[Repositori GitHub de la llibreria _ucilmrepo_](https://github.com/uci-ml-repo/ucimlrepo)\n",
    "\n",
    "[Funció de pandas _isna()_](https://pandas.pydata.org/docs/reference/api/pandas.isna.html)\n",
    "\n",
    "[Funció _dumps()_ del mòdul _json_](https://docs.python.org/3/library/json.html)"
   ]
  },
  {
   "cell_type": "markdown",
   "metadata": {
    "id": "NAGLyPE9PAEF"
   },
   "source": []
  },
  {
   "cell_type": "markdown",
   "metadata": {
    "id": "EJ8O1Bw3PAEF"
   },
   "source": [
    "## 1.2. Taiwan Points of Interest (OpenStreetMap Export)\n",
    "\n",
    "El segon conjunt de dades, _Taiwan Points of Interest (OpenStreetMap Export)_, complementa el conjunt de dades inicial amb la informació dels punts d'interès presents a Taiwan.\n",
    "\n",
    "La combinació d'ambdós conjunts de dades la farem mitjançant les seves coordenades geogràfiques. En el nostre cas, partint de la premissa que llocs amb un major nombre de punts d'interès propers podrien ser més cars, ens interessa calcular quants punts d'interès hi ha propers a cadascun dels immobles que s'han venut.\n",
    "\n",
    "La cerca dels punts d'interès més propers a un immoble pot fer-se per mitjà de força bruta, recorrent tots els punts d'interès per a cadascun dels immobles. No obstant això, aquest mètode no és precisament el més eficient, per la qual cosa per al desenvolupament d'aquesta PAC us proposem la utilització de l'estructura de dades [BallTree](https://scikit-learn.org/stable/modules/generated/sklearn.neighbors.BallTree.html). Aquest tipus d'arbre és una estructura de dades de partició espacial utilitzada per organitzar punts en un espai multidimensional. L'estructura _BallTree_ divideix els punts del conjunt de dades en un conjunt niat de boles, tal com es pot observar en el següent article: <https://medium.com/@geethasreemattaparthi/ball-tree-and-kd-tree-algorithms-a03cdc9f0af9>.\n",
    "\n",
    "El conjunt de dades s'ha obtingut del següent enllaç: <https://data.humdata.org/dataset/hotosm_twn_points_of_interest>, i us el facilitem juntament amb l'enunciat al fitxer *hotosm_twn_points_of_interest_points_geojson.geojson*."
   ]
  },
  {
   "cell_type": "markdown",
   "metadata": {
    "id": "YbpLIU1bPAEG"
   },
   "source": [
    "<div style=\"background-color: #EDF7FF; border-color: #7C9DBF; border-left: 5px solid #7C9DBF; padding: 0.5em;\">\n",
    "<strong>Exercici:</strong> calcula el nombre de punts d'interès a menys de 100 metres de distància de cada immoble i afegeix-lo com un atribut descriptiu més:\n",
    "\n",
    "<ul>\n",
    "  <li>Carrega el conjunt de dades \"Taiwan Points of Interest (OpenStreetMap Export)\" utilitzant el mètode <i>read_file</i> de <i>geopandas</i>.</li>\n",
    "  <li>Inicialitza una estructura de dades de tipus <i>BallTree</i> amb els punts d'interès per posteriorment fer cerques en ella.</li>\n",
    "  <li>Calcula el nombre de punts d'interès propers a cada immoble del primer conjunt de dades per afegir-l'hi després com una nova columna.</li>\n",
    "</ul>\n",
    "\n",
    "Nota: la latitud i longitud de cada lloc d'interès ve emmagatzemada a la columna \"geometry\" del conjunt de dades en una estructura anomenada POINT, formada pels camps \"y\" (latitud) i \"x\" (longitud).\n",
    "\n",
    "Nota: atès que la terra és més esfèrica que plana, és convenient utilitzar la mètrica de distància \"<a href=\"https://es.wikipedia.org/wiki/F%C3%B3rmula_del_semiverseno\">haversine</a>\" per al BallTree a més de treballar amb radians (no en metres).\n",
    "\n",
    "Suggeriment: per a alguns càlculs serà necessari utilitzar el radi de la Terra en metres.\n",
    "</div>"
   ]
  },
  {
   "cell_type": "code",
   "execution_count": 10,
   "metadata": {
    "id": "QcP08FdEPAEG"
   },
   "outputs": [],
   "source": [
    "hotosm_dataset = gpd.read_file(\"hotosm_twn_points_of_interest_points_geojson.geojson\")"
   ]
  },
  {
   "cell_type": "code",
   "execution_count": 81,
   "metadata": {},
   "outputs": [],
   "source": [
    "# Extracció de les coordenades geogràfiques les estructures POINT\n",
    "geographic_coordinates_hot_places = np.array([[coordinate.x, coordinate.y] for coordinate in hotosm_dataset.geometry])\n",
    "geographic_coordinates_hot_places_radians = np.radians(geographic_coordinates_hot_places) # Converssió a radiants"
   ]
  },
  {
   "cell_type": "code",
   "execution_count": 79,
   "metadata": {},
   "outputs": [],
   "source": [
    "ball_tree = BallTree(geographic_coordinates_hot_places_radians, metric=\"haversine\") # Inicialització EEDD BallTree"
   ]
  },
  {
   "cell_type": "code",
   "execution_count": 87,
   "metadata": {},
   "outputs": [],
   "source": [
    "# Coordenades de les cases del primer dataset\n",
    "coordinates_houses = np.array([[real_estate_valuation_as_pandas[\"X6 longitude\"][i],\n",
    "                               real_estate_valuation_as_pandas[\"X5 latitude\"][i]]\n",
    "                              for i in range(real_estate_valuation_as_pandas.shape[0])])\n",
    "coordinates_houses_radians = np.radians(coordinates_houses) # conversió a radiants"
   ]
  },
  {
   "cell_type": "code",
   "execution_count": 100,
   "metadata": {},
   "outputs": [],
   "source": [
    "radius = 100 / 6378000 # distància, en metres, a la que volem buscar / radi de la Terra en metres\n",
    "number_of_close_places = ball_tree.query_radius(coordinates_houses_radians, r=radius, count_only=True)"
   ]
  },
  {
   "cell_type": "code",
   "execution_count": 106,
   "metadata": {},
   "outputs": [
    {
     "data": {
      "text/html": [
       "<div>\n",
       "<style scoped>\n",
       "    .dataframe tbody tr th:only-of-type {\n",
       "        vertical-align: middle;\n",
       "    }\n",
       "\n",
       "    .dataframe tbody tr th {\n",
       "        vertical-align: top;\n",
       "    }\n",
       "\n",
       "    .dataframe thead th {\n",
       "        text-align: right;\n",
       "    }\n",
       "</style>\n",
       "<table border=\"1\" class=\"dataframe\">\n",
       "  <thead>\n",
       "    <tr style=\"text-align: right;\">\n",
       "      <th></th>\n",
       "      <th>No</th>\n",
       "      <th>X1 transaction date</th>\n",
       "      <th>X2 house age</th>\n",
       "      <th>X3 distance to the nearest MRT station</th>\n",
       "      <th>X4 number of convenience stores</th>\n",
       "      <th>X5 latitude</th>\n",
       "      <th>X6 longitude</th>\n",
       "      <th>Y house price of unit area</th>\n",
       "      <th>Number of closest points of interest</th>\n",
       "    </tr>\n",
       "  </thead>\n",
       "  <tbody>\n",
       "    <tr>\n",
       "      <th>0</th>\n",
       "      <td>1</td>\n",
       "      <td>2012.917</td>\n",
       "      <td>32.0</td>\n",
       "      <td>84.87882</td>\n",
       "      <td>10</td>\n",
       "      <td>24.98298</td>\n",
       "      <td>121.54024</td>\n",
       "      <td>37.9</td>\n",
       "      <td>55</td>\n",
       "    </tr>\n",
       "    <tr>\n",
       "      <th>1</th>\n",
       "      <td>2</td>\n",
       "      <td>2012.917</td>\n",
       "      <td>19.5</td>\n",
       "      <td>306.59470</td>\n",
       "      <td>9</td>\n",
       "      <td>24.98034</td>\n",
       "      <td>121.53951</td>\n",
       "      <td>42.2</td>\n",
       "      <td>3</td>\n",
       "    </tr>\n",
       "    <tr>\n",
       "      <th>2</th>\n",
       "      <td>3</td>\n",
       "      <td>2013.583</td>\n",
       "      <td>13.3</td>\n",
       "      <td>561.98450</td>\n",
       "      <td>5</td>\n",
       "      <td>24.98746</td>\n",
       "      <td>121.54391</td>\n",
       "      <td>47.3</td>\n",
       "      <td>3</td>\n",
       "    </tr>\n",
       "    <tr>\n",
       "      <th>3</th>\n",
       "      <td>4</td>\n",
       "      <td>2013.500</td>\n",
       "      <td>13.3</td>\n",
       "      <td>561.98450</td>\n",
       "      <td>5</td>\n",
       "      <td>24.98746</td>\n",
       "      <td>121.54391</td>\n",
       "      <td>54.8</td>\n",
       "      <td>3</td>\n",
       "    </tr>\n",
       "    <tr>\n",
       "      <th>4</th>\n",
       "      <td>5</td>\n",
       "      <td>2012.833</td>\n",
       "      <td>5.0</td>\n",
       "      <td>390.56840</td>\n",
       "      <td>5</td>\n",
       "      <td>24.97937</td>\n",
       "      <td>121.54245</td>\n",
       "      <td>43.1</td>\n",
       "      <td>68</td>\n",
       "    </tr>\n",
       "  </tbody>\n",
       "</table>\n",
       "</div>"
      ],
      "text/plain": [
       "   No  X1 transaction date  X2 house age  \\\n",
       "0   1             2012.917          32.0   \n",
       "1   2             2012.917          19.5   \n",
       "2   3             2013.583          13.3   \n",
       "3   4             2013.500          13.3   \n",
       "4   5             2012.833           5.0   \n",
       "\n",
       "   X3 distance to the nearest MRT station  X4 number of convenience stores  \\\n",
       "0                                84.87882                               10   \n",
       "1                               306.59470                                9   \n",
       "2                               561.98450                                5   \n",
       "3                               561.98450                                5   \n",
       "4                               390.56840                                5   \n",
       "\n",
       "   X5 latitude  X6 longitude  Y house price of unit area  \\\n",
       "0     24.98298     121.54024                        37.9   \n",
       "1     24.98034     121.53951                        42.2   \n",
       "2     24.98746     121.54391                        47.3   \n",
       "3     24.98746     121.54391                        54.8   \n",
       "4     24.97937     121.54245                        43.1   \n",
       "\n",
       "   Number of closest points of interest  \n",
       "0                                    55  \n",
       "1                                     3  \n",
       "2                                     3  \n",
       "3                                     3  \n",
       "4                                    68  "
      ]
     },
     "execution_count": 106,
     "metadata": {},
     "output_type": "execute_result"
    }
   ],
   "source": [
    "# Afegir el nombre de punts d'interès com una nova columna\n",
    "real_estate_valuation_as_pandas[\"Number of closest points of interest\"] = number_of_close_places\n",
    "real_estate_valuation_as_pandas.head()"
   ]
  },
  {
   "cell_type": "markdown",
   "metadata": {},
   "source": [
    "**Recursos externs consultats:**\n",
    "\n",
    "[geopandas.GeoSeries.x](https://geopandas.org/en/stable/docs/reference/api/geopandas.GeoSeries.x.html#geopandas.GeoSeries.x)\n",
    "\n",
    "[geopandas.GeoSeries.y](https://geopandas.org/en/stable/docs/reference/api/geopandas.GeoSeries.y.html)\n",
    "\n",
    "[PANDAS - Manipulación de Datos con Python -> Informació atribut shape](https://joserzapata.github.io/courses/python-ciencia-datos/pandas/)\n",
    "\n",
    "[geopandas.read_file()](https://geopandas.org/en/stable/docs/reference/api/geopandas.read_file.html)\n",
    "\n",
    "[_How can I introduce the radius in query radius-BallTree sklearn, with untis of radians or km?_ -> Exemple semblant al plantejat per l'enunciat](https://stackoverflow.com/questions/63121268/how-can-i-introduce-the-radius-in-query-radius-balltree-sklearn-with-units-of-r)"
   ]
  },
  {
   "cell_type": "markdown",
   "metadata": {
    "id": "54XreOYbPAEG"
   },
   "source": [
    "# 2. Anàlisi de les dades (2.5 punts)\n",
    "\n",
    "En aquest apartat visualitzarem cada una de les columnes o _features_ de la dada per comprendre millor quina distribució té."
   ]
  },
  {
   "cell_type": "markdown",
   "metadata": {
    "id": "-A0FJqFpPAEG"
   },
   "source": [
    "## 2.1. Anàlisi estadística bàsica"
   ]
  },
  {
   "cell_type": "markdown",
   "metadata": {
    "id": "p-yJjFtQPAEG"
   },
   "source": [
    "<div style=\"background-color: #EDF7FF; border-color: #7C9DBF; border-left: 5px solid #7C9DBF; padding: 0.5em;\">\n",
    "<strong>Exercici:</strong> Fes una anàlisi estadística bàsica:\n",
    "<ul>\n",
    "  <li>Calcula estadístics descriptius bàsics: mitjana, mediana, desviació estàndard, ...</li>\n",
    "  <li>Fes un histograma per a cada variable.</li>\n",
    "</ul>\n",
    "Suggeriment: pots fer servir la llibreria \"pandas\" i les seves funcions \"describe\" i \"value_counts\", així com les funcions \"bar\", \"hist\" i \"hist2d\" de <i>matplotlib</i> (aquesta última us vindrà bé per mostrar un mapa de calor combinant les latituds amb les longituds).\n",
    "</div>"
   ]
  },
  {
   "cell_type": "code",
   "execution_count": null,
   "metadata": {
    "id": "ThSEdQoWPAEG"
   },
   "outputs": [],
   "source": []
  },
  {
   "cell_type": "markdown",
   "metadata": {
    "id": "tJfEBWJ2PAEG"
   },
   "source": [
    "<div style=\"background-color: #EDF7FF; border-color: #7C9DBF; border-left: 5px solid #7C9DBF; padding: 0.5em;\">\n",
    "<strong>Anàlisi:</strong> comenta els resultats.\n",
    "</div>"
   ]
  },
  {
   "cell_type": "markdown",
   "metadata": {
    "id": "2MUaljnePAEG"
   },
   "source": []
  },
  {
   "cell_type": "markdown",
   "metadata": {
    "id": "oXpL2db6PAEG"
   },
   "source": [
    "## 2.2. Anàlisi exploratòria de les dades"
   ]
  },
  {
   "cell_type": "markdown",
   "metadata": {
    "id": "w-0kJMiqPAEG"
   },
   "source": [
    "En aquest subapartat explorarem gràficament la relació dels atributs descriptius amb la variable objectiu i analitzarem les diferents correlacions."
   ]
  },
  {
   "cell_type": "markdown",
   "metadata": {
    "id": "02uHyP9fPAEG"
   },
   "source": [
    "<div style=\"background-color: #EDF7FF; border-color: #7C9DBF; border-left: 5px solid #7C9DBF; padding: 0.5em;\">\n",
    "<strong>Exercici:</strong> usant una llibreria gràfica, com per exemple <i>matplotlib</i>, per a cadascuna de les variables descriptives, mostreu la distribució d'aquesta respecte a la variable objectiu, posant, per exemple, a l'eix X els valors de la variable descriptiva i a l'eix Y els de l'objectiu.\n",
    "    \n",
    "La finalitat d'aquest exercici és la d'identificar de manera visual i ràpida si alguns atributs ens permeten predir millor que altres el valor de la variable objectiu.\n",
    "\n",
    "Suggeriment: es recomana fer servir <i>regplot</i>, de la biblioteca <i>seaborn</i>, ja que a més de la distribució de punts que se us demana us mostrarà si hi ha alguna tendència lineal positiva o negativa calculant una regressió lineal en cada cas.\n",
    "\n",
    "Suggeriment: de manera addicional, és convenient veure la distribució geoespacial dels preus dels habitatges, per la qual cosa es recomana fer servir un scatter plot amb una escala de colors adequada relacionada amb el preu.\n",
    "</div>"
   ]
  },
  {
   "cell_type": "code",
   "execution_count": null,
   "metadata": {
    "id": "9qiLczKgPAEG"
   },
   "outputs": [],
   "source": []
  },
  {
   "cell_type": "markdown",
   "metadata": {
    "id": "derLJj4yPAEH"
   },
   "source": [
    "<div style=\"background-color: #EDF7FF; border-color: #7C9DBF; border-left: 5px solid #7C9DBF; padding: 0.5em;\">\n",
    "<strong>Anàlisi:</strong>\n",
    "<br> Mirant les gràfiques, quins atributs semblen tenir més influència en el valor final de la variable objectiu? Creus que amb aquests atributs seria suficient per poder determinar el preu de l'immoble?\n",
    "</div>"
   ]
  },
  {
   "cell_type": "markdown",
   "metadata": {
    "id": "ZaGrvQSTPAEH"
   },
   "source": []
  },
  {
   "cell_type": "markdown",
   "metadata": {
    "id": "SxuL18G6PAEH"
   },
   "source": [
    "<div style=\"background-color: #EDF7FF; border-color: #7C9DBF; border-left: 5px solid #7C9DBF; padding: 0.5em;\">\n",
    "<strong>Exercici:</strong> identifica i elimina els valors atípics del conjunt de dades i repeteix les gràfiques realitzades en l'exercici anterior per a analitzar com podrien estar afectant-nos aquest tipus de mostres.\n",
    "\n",
    "És molt important que aquest pas el realitzeu en una còpia de la dada per a no perdre els valors atípics del conjunt amb el qual estem treballant, ja que continuarem treballant amb totes les mostres del dataset original en els següents apartats.\n",
    "\n",
    "Nota: pots utilitzar, per exemple, el mètode IQR (Interquartile Range).\n",
    "</div>"
   ]
  },
  {
   "cell_type": "code",
   "execution_count": null,
   "metadata": {
    "id": "7jrpOdVuPAEH"
   },
   "outputs": [],
   "source": []
  },
  {
   "cell_type": "markdown",
   "metadata": {
    "id": "Q1nG2OrXPAEH"
   },
   "source": [
    "<div style=\"background-color: #EDF7FF; border-color: #7C9DBF; border-left: 5px solid #7C9DBF; padding: 0.5em;\">\n",
    "<strong>Anàlisi:</strong> explica què passa en les gràfiques quan es visualitzen els valors atípics. Com afecten aquests valors a la distribució de les dades i a les possibles relacions entre les variables?\n",
    "</div>"
   ]
  },
  {
   "cell_type": "markdown",
   "metadata": {
    "id": "9r8gDf5SPAEH"
   },
   "source": []
  },
  {
   "cell_type": "markdown",
   "metadata": {
    "id": "sV6QDHogPAEH"
   },
   "source": [
    "<div style=\"background-color: #EDF7FF; border-color: #7C9DBF; border-left: 5px solid #7C9DBF; padding: 0.5em;\">\n",
    "<strong>Exercici:</strong> calcula i mostra la correlació entre les variables numèriques.\n",
    "</div>"
   ]
  },
  {
   "cell_type": "code",
   "execution_count": null,
   "metadata": {
    "id": "jBvlDJiNPAEH"
   },
   "outputs": [],
   "source": []
  },
  {
   "cell_type": "markdown",
   "metadata": {
    "id": "C4NVcJeEPAEH"
   },
   "source": [
    "<div style=\"background-color: #EDF7FF; border-color: #7C9DBF; border-left: 5px solid #7C9DBF; padding: 0.5em;\">\n",
    "<strong>Anàlisi:</strong> comenta els resultats.\n",
    "</div>"
   ]
  },
  {
   "cell_type": "markdown",
   "metadata": {
    "id": "oDp_e12dPAEH"
   },
   "source": []
  },
  {
   "cell_type": "markdown",
   "metadata": {
    "id": "TXhzAOyoPAEH"
   },
   "source": [
    "# 3. Preprocessat de les dades (1 punt)\n",
    "\n",
    "Un cop analitzats els atributs descriptius, és el moment de preparar-los perquè ens siguin útils de cara a predir valors.\n",
    "\n",
    "En aquest apartat:\n",
    "<li>Estandarditzarem els valors dels atributs descriptius numèrics perquè les seves escales no siguin molt diferents.</li>\n",
    "<li>Separarem el conjunt de dades original en dos subconjunts: entrenament i test.</li>"
   ]
  },
  {
   "cell_type": "markdown",
   "metadata": {
    "id": "RxXCXTWlPAEH"
   },
   "source": [
    "<div style=\"background-color: #EDF7FF; border-color: #7C9DBF; border-left: 5px solid #7C9DBF; padding: 0.5em;\">\n",
    "<strong>Exercici:</strong> Estandarditza tots els atributs descriptius numèrics, aquest serà el nou conjunt d'atributs descriptius amb el qual treballaré des d'ara.\n",
    "<hr>\n",
    "Suggeriment: Utilitza \"StandardScaler\" de <i>preprocessing</i>.\n",
    "</div>"
   ]
  },
  {
   "cell_type": "code",
   "execution_count": null,
   "metadata": {
    "id": "9z37XSA6PAEH"
   },
   "outputs": [],
   "source": []
  },
  {
   "cell_type": "markdown",
   "metadata": {
    "id": "s727D3ApPAEH"
   },
   "source": [
    "<div style=\"background-color: #EDF7FF; border-color: #7C9DBF; border-left: 5px solid #7C9DBF; padding: 0.5em;\">\n",
    "<strong>Exercici:</strong> Separa els atributs descriptius escalats i la variable objectiu en els subconjunts d'entrenament i test.\n",
    "<hr>\n",
    "Suggeriment: Per separar entre train i test pots fer servir \"train_test_split\" de sklearn.<br>\n",
    "</div>"
   ]
  },
  {
   "cell_type": "code",
   "execution_count": null,
   "metadata": {
    "id": "CNFIRLqmPAEO"
   },
   "outputs": [],
   "source": []
  },
  {
   "cell_type": "markdown",
   "metadata": {
    "id": "8bRFZQKVPAEO"
   },
   "source": [
    "<div style=\"background-color: #EDF7FF; border-color: #7C9DBF; border-left: 5px solid #7C9DBF; padding: 0.5em;\">\n",
    "<strong>Anàlisi:</strong> Explica si la decisió de transformar el conjunt de dades (estandardització) abans de realitzar la separació del conjunt de dades en els subconjunts d'entrenament i test és una bona idea.\n",
    "</div>"
   ]
  },
  {
   "cell_type": "code",
   "execution_count": null,
   "metadata": {
    "id": "I5WVefgCPAEO"
   },
   "outputs": [],
   "source": []
  },
  {
   "cell_type": "markdown",
   "metadata": {
    "id": "jpv8H0W8PAEO"
   },
   "source": [
    "<div style=\"background-color: #EDF7FF; border-color: #7C9DBF; border-left: 5px solid #7C9DBF; padding: 0.5em;\">\n",
    "<strong>Anàlisi:</strong> En aquest exercici has estandarditzat els valors dels atributs descriptius perquè les seves escales no siguin molt diferents. Què ens aporta estandarditzar els atributs descriptius? Hi ha alguna situació o escenari en què sigui imprescindible?\n",
    "</div>"
   ]
  },
  {
   "cell_type": "markdown",
   "metadata": {
    "id": "-R1UTvr4PAEO"
   },
   "source": []
  },
  {
   "cell_type": "markdown",
   "metadata": {
    "id": "GBnjdTrkPAEO"
   },
   "source": [
    "# 4. Reducció de la dimensionalitat (2 punts)\n",
    "\n",
    "En aquest apartat reprendrem l'anàlisi gràfica de distribució de la variable objectiu al llarg de les mostres del conjunt de dades. En el segon apartat vam poder observar si les variables descriptives per separat eren molt prometedores o no de cara a la predicció. Aquí intentarem determinar si la seva combinació pot ajudar-nos a determinar el preu de l'immoble de millor manera que utilitzant els atributs per separat. Amb aquest propòsit, reduirem la dimensionalitat del problema a només dos atributs, que seran la projecció dels atributs descriptius originals, i observarem de quina manera es distribueixen les mostres en funció del seu valor objectiu."
   ]
  },
  {
   "cell_type": "markdown",
   "metadata": {
    "id": "Izty9OcEPAEO"
   },
   "source": [
    "<div style=\"background-color: #EDF7FF; border-color: #7C9DBF; border-left: 5px solid #7C9DBF; padding: 0.5em;\">\n",
    "<strong>Exercici:</strong><br>\n",
    "<ul>\n",
    "    <li>Aplica el mètode de reducció de la dimensionalitat Principal Component Analysis (PCA) per reduir a 2 dimensions el dataset sencer amb totes les features.</li>\n",
    "    <li>Amb l'objectiu de visualitzar si és possible predir eficientment el valor de la variable objectiu amb aquest mètode, genera un gràfic en 2D amb el resultat del PCA utilitzant una escala de colors que permeti distingir de forma senzilla si els valors alts o baixos s'acumulen més o menys en determinades zones.</li>\n",
    "</ul>\n",
    "    \n",
    "Nota: Tingues cura, no incloguis la variable objectiu en la reducció de dimensionalitat. Volem explicar la variable objectiu en funció de la resta de variables reduïdes a dues dimensions.\n",
    "\n",
    "<hr>\n",
    "Suggeriment: No és necessari que programis l'algoritme de PCA, pots fer servir la implementació disponible a la llibreria de <i>scikit-learn</i>.<br>\n",
    "</div>"
   ]
  },
  {
   "cell_type": "code",
   "execution_count": null,
   "metadata": {
    "id": "Vy3G9SY5PAEO"
   },
   "outputs": [],
   "source": []
  },
  {
   "cell_type": "markdown",
   "metadata": {
    "id": "EQoI4t2WPAEO"
   },
   "source": [
    "<div style=\"background-color: #EDF7FF; border-color: #7C9DBF; border-left: 5px solid #7C9DBF; padding: 0.5em;\">\n",
    "<strong>Exercici:</strong><br>\n",
    "<ul>\n",
    "    <li>Repeteix la reducció de dimensionalitat, però en aquest cas usant TSNE. Pots trobar més informació sobre aquest algoritme en el enllaç: <a href=\"https://distill.pub/2016/misread-tsne/</a></li>\n",
    "    <li>Igual que abans, genera un gràfic en 2D amb el resultat del TSNE utilitzant una escala degradada de colors per a la variable objectiu (\"y\"), amb la finalitat de visualitzar si és possible predir eficientment el valor de la variable objectiu amb aquest mètode.</li>\n",
    "</ul>\n",
    "\n",
    "<hr>\n",
    "Suggeriment: No és necessari que programis l'algoritme TSNE, pots fer servir la implementació disponible a la llibreria de <i>scikit-learn</i>.<br>\n",
    "Suggeriment: A part d'especificar el nombre de components, prova a fer servir els paràmetres \"learning_rate\" i \"perplexity\".<br>\n",
    "</div>"
   ]
  },
  {
   "cell_type": "code",
   "execution_count": null,
   "metadata": {
    "id": "VB7YR-4LPAEO"
   },
   "outputs": [],
   "source": []
  },
  {
   "cell_type": "markdown",
   "metadata": {
    "id": "euox7E5VPAEO"
   },
   "source": [
    "<div style=\"background-color: #EDF7FF; border-color: #7C9DBF; border-left: 5px solid #7C9DBF; padding: 0.5em;\">\n",
    "<strong>Anàlisi:</strong> Observant els dos gràfics, creus que ha funcionat bé la reducció de dimensionalitat? Creus que serà útil per a predir el valor de la variable objectiu? Quin dels dos mètodes ha funcionat millor? Per què obtenim resultats tan diferents?\n",
    "</div>"
   ]
  },
  {
   "cell_type": "markdown",
   "metadata": {
    "id": "IENQlrQnPAEP"
   },
   "source": []
  },
  {
   "cell_type": "markdown",
   "metadata": {
    "id": "Ho9XjKNFPAEP"
   },
   "source": [
    "<div style=\"background-color: #EDF7FF; border-color: #7C9DBF; border-left: 5px solid #7C9DBF; padding: 0.5em;\">\n",
    "<strong>Pregunta:</strong> Què opines de TSNE com a opció per a reduir la dimensionalitat? Què et sembla que només tingui el mètode \"fit_transform\" però no tingui \"transform\"? Coneixes alguna altra opció que, amb unes prestacions similars, eviti els problemes que té TSNE?\n",
    "</div>"
   ]
  },
  {
   "cell_type": "markdown",
   "metadata": {
    "id": "Iw_yktdiPAEP"
   },
   "source": []
  },
  {
   "cell_type": "markdown",
   "metadata": {
    "id": "DZNWKhOPPAEP"
   },
   "source": [
    "# 5. Conjunts desbalancejats de dades (1.5 punts)\n",
    "\n",
    "En els problemes amb variables objectiu discretes, amb valors acotats, és molt comú trobar conjunts de dades molt desbalancejats. A la indústria existeixen múltiples exemples, com la detecció de frau o la fuga de clients. No obstant això, aquest inconvenient també està present en problemes amb variable objectiu contínua, on pot apreciar-se que la distribució d'aquesta variable s'allunya molt de ser uniforme.\n",
    "\n",
    "El cas del _dataset_ amb el qual estem treballant, tal com vam poder observar en l'apartat d'anàlisi de les dades, no presenta una distribució uniforme, per la qual cosa no existeixen tantes mostres d'immobles cars i/o molt barats en comparació amb el nombre d'habitatges de preus intermedis. Aquest fet pot portar a alguns algoritmes d'aprenentatge a prioritzar la predicció dels valors més comuns, marginant aquells que no són tan habituals. Amb la finalitat de mitigar aquesta problemàtica, existeixen diferents algoritmes de balanceig que opten per l'eliminació de les mostres més comuns (_undersampling_) o, per contra, intenten generar noves mostres per als valors més escassos de la variable objectiu (_oversampling_).\n",
    "\n",
    "En aquest cas, ens proposem fer servir un algoritme que aplica ambdues idees: _under_ i _oversampling_, redistribuint les mostres perquè la variable objectiu presenti una distribució més uniforme."
   ]
  },
  {
   "cell_type": "markdown",
   "metadata": {
    "id": "oytpC9USPAEP"
   },
   "source": [
    "<div style=\"background-color: #EDF7FF; border-color: #7C9DBF; border-left: 5px solid #7C9DBF; padding: 0.5em;\">\n",
    "<strong>Exercici:</strong> Utilitza <i>smoter</i>, de la biblioteca <i>smogn</i>, per equilibrar la distribució de la variable objectiu. Un cop aplicat l'algoritme, analitza com ha quedat la distribució de la variable objectiu i el nombre de mostres totals que obtenim.\n",
    "</div>"
   ]
  },
  {
   "cell_type": "code",
   "execution_count": null,
   "metadata": {
    "id": "ThUI34YtPAEP"
   },
   "outputs": [],
   "source": []
  },
  {
   "cell_type": "markdown",
   "metadata": {
    "id": "CeBaa84fPAEP"
   },
   "source": [
    "Amb l'objectiu de comprendre millor i de manera visual com es generen aquestes noves mostres farem servir, a partir d'ara, la descomposició a dues dimensions que millor s'hagi comportat en l'apartat anterior."
   ]
  },
  {
   "cell_type": "markdown",
   "metadata": {
    "id": "4wGEOLIsPAEP"
   },
   "source": [
    "<div style=\"background-color: #EDF7FF; border-color: #7C9DBF; border-left: 5px solid #7C9DBF; padding: 0.5em;\">\n",
    "<strong>Exercici:</strong> Mostra, mitjançant un scatter plot en funció de les dues components a les quals anteriorment he reduït el dataset, la distribució dels preus de venda del conjunt de dades original i l'obtingut en aplicar <i>smoter</i>.\n",
    "</div>"
   ]
  },
  {
   "cell_type": "code",
   "execution_count": null,
   "metadata": {
    "id": "ZoHw-GSwPAEP"
   },
   "outputs": [],
   "source": []
  },
  {
   "cell_type": "markdown",
   "metadata": {
    "id": "YOVRv_yePAEP"
   },
   "source": [
    "<div style=\"background-color: #EDF7FF; border-color: #7C9DBF; border-left: 5px solid #7C9DBF; padding: 0.5em;\">\n",
    "<strong>Anàlisi:</strong> Comenta els resultats.\n",
    "</div>"
   ]
  },
  {
   "cell_type": "markdown",
   "metadata": {
    "id": "9ITln9mKPAEP"
   },
   "source": []
  },
  {
   "cell_type": "markdown",
   "metadata": {
    "id": "qNSUq9FXPAEP"
   },
   "source": [
    "# 6. Cerca i combinació de nous conjunts de dades (1 punt)\n",
    "\n",
    "En aquest apartat us animem a que busqueu de manera lliure un nou conjunt de dades que pugueu combinar d'alguna forma (a través d'algun o alguns atributs comuns) amb el conjunt de dades inicial per enriquir més encara la informació que tenim de cada habitatge de cara a estimar millor el seu preu.\n",
    "\n",
    "És imprescindible que, una vegada tingueu el conjunt de dades ampliat amb el càlcul dels vostres nous atributs descriptius procedents del nou _dataset_, reexecuteu tot el Notebook, a excepció de la càrrega inicial del conjunt de dades _Real Estate Valuation_, per comprovar l'efecte d'aquesta ampliació."
   ]
  },
  {
   "cell_type": "code",
   "execution_count": null,
   "metadata": {
    "id": "Lk6I-WjePAEP"
   },
   "outputs": [],
   "source": []
  }
 ],
 "metadata": {
  "colab": {
   "provenance": []
  },
  "kernelspec": {
   "display_name": "Python 3 (ipykernel)",
   "language": "python",
   "name": "python3"
  },
  "language_info": {
   "codemirror_mode": {
    "name": "ipython",
    "version": 3
   },
   "file_extension": ".py",
   "mimetype": "text/x-python",
   "name": "python",
   "nbconvert_exporter": "python",
   "pygments_lexer": "ipython3",
   "version": "3.13.2"
  },
  "toc": {
   "base_numbering": 1,
   "nav_menu": {},
   "number_sections": true,
   "sideBar": true,
   "skip_h1_title": false,
   "title_cell": "Table of Contents",
   "title_sidebar": "Contents",
   "toc_cell": false,
   "toc_position": {},
   "toc_section_display": true,
   "toc_window_display": false
  }
 },
 "nbformat": 4,
 "nbformat_minor": 1
}
